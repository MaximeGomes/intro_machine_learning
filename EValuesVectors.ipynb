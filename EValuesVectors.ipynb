{
 "cells": [
  {
   "cell_type": "markdown",
   "metadata": {},
   "source": [
    "*Calculating the covariance matrix, Eigen values and Eigen vectors for PCA*"
   ]
  },
  {
   "cell_type": "code",
   "execution_count": 1,
   "metadata": {},
   "outputs": [],
   "source": [
    "from sklearn.preprocessing import StandardScaler\n",
    "import numpy as np\n",
    "import pandas as pd\n",
    "import matplotlib.pyplot as plt"
   ]
  },
  {
   "cell_type": "code",
   "execution_count": 2,
   "metadata": {},
   "outputs": [],
   "source": [
    "# Input matrix\n",
    "students = np.array([[17,18,13],\n",
    "                     [13,15,17],\n",
    "                     [4,6,14],\n",
    "                     [14,12,11],\n",
    "                     [8,10,12]])"
   ]
  },
  {
   "cell_type": "code",
   "execution_count": 3,
   "metadata": {},
   "outputs": [
    {
     "data": {
      "text/plain": [
       "array([[17, 18, 13],\n",
       "       [13, 15, 17],\n",
       "       [ 4,  6, 14],\n",
       "       [14, 12, 11],\n",
       "       [ 8, 10, 12]])"
      ]
     },
     "execution_count": 3,
     "metadata": {},
     "output_type": "execute_result"
    }
   ],
   "source": [
    "students"
   ]
  },
  {
   "cell_type": "code",
   "execution_count": 4,
   "metadata": {},
   "outputs": [
    {
     "data": {
      "text/plain": [
       "array([[ 1.25495273,  1.4083645 , -0.19425717],\n",
       "       [ 0.38946809,  0.6799001 ,  1.74831455],\n",
       "       [-1.55787236, -1.50549309,  0.29138576],\n",
       "       [ 0.60583925, -0.04856429, -1.16554303],\n",
       "       [-0.69238772, -0.53420722, -0.6799001 ]])"
      ]
     },
     "execution_count": 4,
     "metadata": {},
     "output_type": "execute_result"
    }
   ],
   "source": [
    "# Standardization\n",
    "sc = StandardScaler()\n",
    "students_scaled = sc.fit_transform(students)\n",
    "students_scaled"
   ]
  },
  {
   "cell_type": "code",
   "execution_count": 5,
   "metadata": {},
   "outputs": [
    {
     "data": {
      "text/plain": [
       "array([[ 1.        ,  0.94361054, -0.05043798],\n",
       "       [ 0.94361054,  1.        ,  0.17924528],\n",
       "       [-0.05043798,  0.17924528,  1.        ]])"
      ]
     },
     "execution_count": 5,
     "metadata": {},
     "output_type": "execute_result"
    }
   ],
   "source": [
    "# Covariance matrix\n",
    "cov_matrix = np.cov(students_scaled.T, bias= True)\n",
    "cov_matrix"
   ]
  },
  {
   "cell_type": "code",
   "execution_count": 6,
   "metadata": {},
   "outputs": [
    {
     "data": {
      "text/plain": [
       "array([0.02909989, 1.95244946, 1.01845065])"
      ]
     },
     "execution_count": 6,
     "metadata": {},
     "output_type": "execute_result"
    }
   ],
   "source": [
    "# Calculate the Eigen values & Eigen vectors\n",
    "eigenvalues, eigenvectors = np.linalg.eig(cov_matrix)\n",
    "eigenvalues"
   ]
  },
  {
   "cell_type": "code",
   "execution_count": 7,
   "metadata": {},
   "outputs": [
    {
     "name": "stdout",
     "output_type": "stream",
     "text": [
      "0.0291 0.97\n",
      "1.9524 65.08\n",
      "1.0185 33.95\n"
     ]
    }
   ],
   "source": [
    "# Show contribution for each Eigen value\n",
    "total = sum(eigenvalues)\n",
    "for eigenvalue in eigenvalues:\n",
    "    print(round(eigenvalue,4), round(eigenvalue/total*100,2))"
   ]
  },
  {
   "cell_type": "code",
   "execution_count": 8,
   "metadata": {},
   "outputs": [
    {
     "data": {
      "text/plain": [
       "array([[ 0.69173547, -0.69792615, -0.18547541],\n",
       "       [-0.70288369, -0.70962655,  0.04883312],\n",
       "       [ 0.16570018, -0.09658804,  0.98143477]])"
      ]
     },
     "execution_count": 8,
     "metadata": {},
     "output_type": "execute_result"
    }
   ],
   "source": [
    "eigenvectors"
   ]
  },
  {
   "cell_type": "code",
   "execution_count": 9,
   "metadata": {},
   "outputs": [
    {
     "data": {
      "text/html": [
       "<div>\n",
       "<style scoped>\n",
       "    .dataframe tbody tr th:only-of-type {\n",
       "        vertical-align: middle;\n",
       "    }\n",
       "\n",
       "    .dataframe tbody tr th {\n",
       "        vertical-align: top;\n",
       "    }\n",
       "\n",
       "    .dataframe thead th {\n",
       "        text-align: right;\n",
       "    }\n",
       "</style>\n",
       "<table border=\"1\" class=\"dataframe\">\n",
       "  <thead>\n",
       "    <tr style=\"text-align: right;\">\n",
       "      <th></th>\n",
       "      <th>0</th>\n",
       "      <th>1</th>\n",
       "    </tr>\n",
       "  </thead>\n",
       "  <tbody>\n",
       "    <tr>\n",
       "      <th>0</th>\n",
       "      <td>-1.890985</td>\n",
       "      <td>-0.118736</td>\n",
       "    </tr>\n",
       "    <tr>\n",
       "      <th>1</th>\n",
       "      <td>-0.670850</td>\n",
       "      <td>1.714721</td>\n",
       "    </tr>\n",
       "    <tr>\n",
       "      <th>2</th>\n",
       "      <td>2.177570</td>\n",
       "      <td>0.173249</td>\n",
       "    </tr>\n",
       "    <tr>\n",
       "      <th>3</th>\n",
       "      <td>-0.448289</td>\n",
       "      <td>-1.038826</td>\n",
       "    </tr>\n",
       "    <tr>\n",
       "      <th>4</th>\n",
       "      <td>0.832554</td>\n",
       "      <td>-0.730408</td>\n",
       "    </tr>\n",
       "  </tbody>\n",
       "</table>\n",
       "</div>"
      ],
      "text/plain": [
       "          0         1\n",
       "0 -1.890985 -0.118736\n",
       "1 -0.670850  1.714721\n",
       "2  2.177570  0.173249\n",
       "3 -0.448289 -1.038826\n",
       "4  0.832554 -0.730408"
      ]
     },
     "execution_count": 9,
     "metadata": {},
     "output_type": "execute_result"
    }
   ],
   "source": [
    "# Multiply principal eigen vectors with the scaled input\n",
    "Reduced_output = np.matmul(students_scaled, eigenvectors[1:3].T)\n",
    "Reduced_output = pd.DataFrame(Reduced_output)\n",
    "Reduced_output"
   ]
  },
  {
   "cell_type": "code",
   "execution_count": 10,
   "metadata": {},
   "outputs": [
    {
     "data": {
      "text/plain": [
       "Text(0.5, 1.0, 'PC1 vs PC2')"
      ]
     },
     "execution_count": 10,
     "metadata": {},
     "output_type": "execute_result"
    },
    {
     "data": {
      "image/png": "[encoded data removed]",
      "text/plain": [
       "<Figure size 640x480 with 1 Axes>"
      ]
     },
     "metadata": {},
     "output_type": "display_data"
    }
   ],
   "source": [
    "fig, ax = plt.subplots()\n",
    "ax.scatter(Reduced_output[0], Reduced_output[1], c = \"red\", alpha=.75)\n",
    "ax.set_xlabel(r'PC1', fontsize=10)\n",
    "ax.set_ylabel(r'PC2', fontsize=10)\n",
    "ax.set_title('PC1 vs PC2')"
   ]
  }
 ],
 "metadata": {
  "kernelspec": {
   "display_name": ".venv",
   "language": "python",
   "name": "python3"
  },
  "language_info": {
   "codemirror_mode": {
    "name": "ipython",
    "version": 3
   },
   "file_extension": ".py",
   "mimetype": "text/x-python",
   "name": "python",
   "nbconvert_exporter": "python",
   "pygments_lexer": "ipython3",
   "version": "3.9.13"
  }
 },
 "nbformat": 4,
 "nbformat_minor": 4
}
